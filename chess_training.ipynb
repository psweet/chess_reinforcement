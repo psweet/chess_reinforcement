{
 "cells": [
  {
   "cell_type": "code",
   "execution_count": 1,
   "metadata": {},
   "outputs": [
    {
     "data": {
      "text/plain": [
       "device(type='cpu')"
      ]
     },
     "execution_count": 1,
     "metadata": {},
     "output_type": "execute_result"
    }
   ],
   "source": [
    "from chess_env import ChessEnv\n",
    "from network import Agent\n",
    "\n",
    "env = ChessEnv()\n",
    "agent = Agent(\n",
    "    gamma=0.99,\n",
    "    epsilon=1.0,\n",
    "    batch_size=128,\n",
    "    max_me_size=1_000,\n",
    "    eps_end=0.01,\n",
    "    input_dims=[390, 390, 3],\n",
    "    lr=0.003\n",
    ")\n",
    "scores = []\n",
    "games = {}\n",
    "number_of_games = 20\n",
    "\n",
    "agent.Q_eval.device"
   ]
  },
  {
   "cell_type": "code",
   "execution_count": 2,
   "metadata": {},
   "outputs": [
    {
     "name": "stdout",
     "output_type": "stream",
     "text": [
      "episode: 0, score: -374.00, epsilon: 1.00\n",
      "torch.Size([128, 9, 390, 36]) (128,) (128, 390, 390, 3)\n"
     ]
    },
    {
     "ename": "IndexError",
     "evalue": "shape mismatch: indexing tensors could not be broadcast together with shapes [128], [128, 390, 390, 3]",
     "output_type": "error",
     "traceback": [
      "\u001b[1;31m---------------------------------------------------------------------------\u001b[0m",
      "\u001b[1;31mIndexError\u001b[0m                                Traceback (most recent call last)",
      "\u001b[1;32mc:\\Users\\sales\\Documents\\Github\\chess_reinforcement\\chess_training.ipynb Cell 2\u001b[0m line \u001b[0;36m1\n\u001b[0;32m      <a href='vscode-notebook-cell:/c%3A/Users/sales/Documents/Github/chess_reinforcement/chess_training.ipynb#W2sZmlsZQ%3D%3D?line=7'>8</a>\u001b[0m     score \u001b[39m+\u001b[39m\u001b[39m=\u001b[39m reward\n\u001b[0;32m      <a href='vscode-notebook-cell:/c%3A/Users/sales/Documents/Github/chess_reinforcement/chess_training.ipynb#W2sZmlsZQ%3D%3D?line=8'>9</a>\u001b[0m     agent\u001b[39m.\u001b[39mstore_transition(\n\u001b[0;32m     <a href='vscode-notebook-cell:/c%3A/Users/sales/Documents/Github/chess_reinforcement/chess_training.ipynb#W2sZmlsZQ%3D%3D?line=9'>10</a>\u001b[0m         observation,\n\u001b[0;32m     <a href='vscode-notebook-cell:/c%3A/Users/sales/Documents/Github/chess_reinforcement/chess_training.ipynb#W2sZmlsZQ%3D%3D?line=10'>11</a>\u001b[0m         current_action_space\u001b[39m.\u001b[39mindex(action),\n\u001b[1;32m   (...)\u001b[0m\n\u001b[0;32m     <a href='vscode-notebook-cell:/c%3A/Users/sales/Documents/Github/chess_reinforcement/chess_training.ipynb#W2sZmlsZQ%3D%3D?line=13'>14</a>\u001b[0m         ended\n\u001b[0;32m     <a href='vscode-notebook-cell:/c%3A/Users/sales/Documents/Github/chess_reinforcement/chess_training.ipynb#W2sZmlsZQ%3D%3D?line=14'>15</a>\u001b[0m     )\n\u001b[1;32m---> <a href='vscode-notebook-cell:/c%3A/Users/sales/Documents/Github/chess_reinforcement/chess_training.ipynb#W2sZmlsZQ%3D%3D?line=15'>16</a>\u001b[0m     agent\u001b[39m.\u001b[39;49mlearn(current_action_space, env\u001b[39m.\u001b[39;49maction_space)\n\u001b[0;32m     <a href='vscode-notebook-cell:/c%3A/Users/sales/Documents/Github/chess_reinforcement/chess_training.ipynb#W2sZmlsZQ%3D%3D?line=16'>17</a>\u001b[0m     observation \u001b[39m=\u001b[39m new_observation\n\u001b[0;32m     <a href='vscode-notebook-cell:/c%3A/Users/sales/Documents/Github/chess_reinforcement/chess_training.ipynb#W2sZmlsZQ%3D%3D?line=18'>19</a>\u001b[0m games[env\u001b[39m.\u001b[39mpgn()] \u001b[39m=\u001b[39m {\n\u001b[0;32m     <a href='vscode-notebook-cell:/c%3A/Users/sales/Documents/Github/chess_reinforcement/chess_training.ipynb#W2sZmlsZQ%3D%3D?line=19'>20</a>\u001b[0m     \u001b[39m\"\u001b[39m\u001b[39mscores\u001b[39m\u001b[39m\"\u001b[39m : scores,\n\u001b[0;32m     <a href='vscode-notebook-cell:/c%3A/Users/sales/Documents/Github/chess_reinforcement/chess_training.ipynb#W2sZmlsZQ%3D%3D?line=20'>21</a>\u001b[0m     \u001b[39m\"\u001b[39m\u001b[39meps_hist\u001b[39m\u001b[39m\"\u001b[39m : agent\u001b[39m.\u001b[39mepsilon\n\u001b[0;32m     <a href='vscode-notebook-cell:/c%3A/Users/sales/Documents/Github/chess_reinforcement/chess_training.ipynb#W2sZmlsZQ%3D%3D?line=21'>22</a>\u001b[0m }\n",
      "File \u001b[1;32mc:\\Users\\sales\\Documents\\Github\\chess_reinforcement\\network.py:99\u001b[0m, in \u001b[0;36mAgent.learn\u001b[1;34m(self, action_space, next_action_space)\u001b[0m\n\u001b[0;32m     97\u001b[0m q_eval \u001b[39m=\u001b[39m \u001b[39mself\u001b[39m\u001b[39m.\u001b[39mQ_eval\u001b[39m.\u001b[39mforward(state_batch, action_space)\n\u001b[0;32m     98\u001b[0m \u001b[39mprint\u001b[39m(q_eval\u001b[39m.\u001b[39mshape, batch_index\u001b[39m.\u001b[39mshape, action_batch\u001b[39m.\u001b[39mshape)\n\u001b[1;32m---> 99\u001b[0m q_eval \u001b[39m=\u001b[39m q_eval[batch_index, action_batch]\n\u001b[0;32m    100\u001b[0m q_next \u001b[39m=\u001b[39m \u001b[39mself\u001b[39m\u001b[39m.\u001b[39mQ_eval\u001b[39m.\u001b[39mforward(new_state_batch, next_action_space)\n\u001b[0;32m    101\u001b[0m q_next[terminal_batch] \u001b[39m=\u001b[39m \u001b[39m0\u001b[39m\n",
      "\u001b[1;31mIndexError\u001b[0m: shape mismatch: indexing tensors could not be broadcast together with shapes [128], [128, 390, 390, 3]"
     ]
    }
   ],
   "source": [
    "for game in range(number_of_games):\n",
    "    score = 0\n",
    "    observation, info = env.reset()\n",
    "    while not env.game.is_game_over():\n",
    "        current_action_space = env.action_space\n",
    "        action = agent.choose_action(observation, current_action_space)\n",
    "        new_observation, reward, ended, _, info = env.step(action)\n",
    "        score += reward\n",
    "        agent.store_transition(\n",
    "            observation,\n",
    "            current_action_space.index(action),\n",
    "            reward,\n",
    "            new_observation,\n",
    "            ended\n",
    "        )\n",
    "        agent.learn(current_action_space, env.action_space)\n",
    "        observation = new_observation\n",
    "\n",
    "    games[env.pgn()] = {\n",
    "        \"scores\" : scores,\n",
    "        \"eps_hist\" : agent.epsilon\n",
    "    }\n",
    "\n",
    "    print(f\"episode: {game}, score: {score:.2f}, epsilon: {agent.epsilon:.2f}\")"
   ]
  }
 ],
 "metadata": {
  "kernelspec": {
   "display_name": "env",
   "language": "python",
   "name": "python3"
  },
  "language_info": {
   "codemirror_mode": {
    "name": "ipython",
    "version": 3
   },
   "file_extension": ".py",
   "mimetype": "text/x-python",
   "name": "python",
   "nbconvert_exporter": "python",
   "pygments_lexer": "ipython3",
   "version": "3.11.5"
  }
 },
 "nbformat": 4,
 "nbformat_minor": 2
}
