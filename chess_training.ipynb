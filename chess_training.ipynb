{
 "cells": [
  {
   "cell_type": "code",
   "execution_count": 1,
   "metadata": {},
   "outputs": [],
   "source": [
    "from chess_env import ChessEnv\n",
    "from network import Agent\n",
    "\n",
    "import torch\n",
    "\n",
    "# https://www.kaggle.com/code/arjanso/reinforcement-learning-chess-3-q-networks\n",
    "\n",
    "env = ChessEnv()\n",
    "\n",
    "agent = Agent(\n",
    "    gamma=0.99,\n",
    "    epsilon=1.0,\n",
    "    batch_size=128,\n",
    "    max_me_size=1_000,\n",
    "    eps_end=0.01,\n",
    "    input_dims=[6, 8, 8],\n",
    "    lr=0.003\n",
    ")\n",
    "\n",
    "scores = []\n",
    "games = {}\n",
    "number_of_games = 20\n",
    "\n",
    "# x = agent.Q_eval.forward(torch.tensor(env.read_board(), dtype=torch.float))"
   ]
  },
  {
   "cell_type": "code",
   "execution_count": 3,
   "metadata": {},
   "outputs": [
    {
     "ename": "ValueError",
     "evalue": "could not broadcast input array from shape (6,8,8) into shape (390,390)",
     "output_type": "error",
     "traceback": [
      "\u001b[1;31m---------------------------------------------------------------------------\u001b[0m",
      "\u001b[1;31mValueError\u001b[0m                                Traceback (most recent call last)",
      "\u001b[1;32mc:\\Users\\sales\\Documents\\Github\\chess_reinforcement\\chess_training.ipynb Cell 2\u001b[0m line \u001b[0;36m9\n\u001b[0;32m      <a href='vscode-notebook-cell:/c%3A/Users/sales/Documents/Github/chess_reinforcement/chess_training.ipynb#W1sZmlsZQ%3D%3D?line=6'>7</a>\u001b[0m new_observation, reward, ended, _, info \u001b[39m=\u001b[39m env\u001b[39m.\u001b[39mstep(action)\n\u001b[0;32m      <a href='vscode-notebook-cell:/c%3A/Users/sales/Documents/Github/chess_reinforcement/chess_training.ipynb#W1sZmlsZQ%3D%3D?line=7'>8</a>\u001b[0m score \u001b[39m+\u001b[39m\u001b[39m=\u001b[39m reward\n\u001b[1;32m----> <a href='vscode-notebook-cell:/c%3A/Users/sales/Documents/Github/chess_reinforcement/chess_training.ipynb#W1sZmlsZQ%3D%3D?line=8'>9</a>\u001b[0m agent\u001b[39m.\u001b[39;49mstore_transition(\n\u001b[0;32m     <a href='vscode-notebook-cell:/c%3A/Users/sales/Documents/Github/chess_reinforcement/chess_training.ipynb#W1sZmlsZQ%3D%3D?line=9'>10</a>\u001b[0m     observation,\n\u001b[0;32m     <a href='vscode-notebook-cell:/c%3A/Users/sales/Documents/Github/chess_reinforcement/chess_training.ipynb#W1sZmlsZQ%3D%3D?line=10'>11</a>\u001b[0m     current_action_space\u001b[39m.\u001b[39;49mindex(action),\n\u001b[0;32m     <a href='vscode-notebook-cell:/c%3A/Users/sales/Documents/Github/chess_reinforcement/chess_training.ipynb#W1sZmlsZQ%3D%3D?line=11'>12</a>\u001b[0m     reward,\n\u001b[0;32m     <a href='vscode-notebook-cell:/c%3A/Users/sales/Documents/Github/chess_reinforcement/chess_training.ipynb#W1sZmlsZQ%3D%3D?line=12'>13</a>\u001b[0m     new_observation,\n\u001b[0;32m     <a href='vscode-notebook-cell:/c%3A/Users/sales/Documents/Github/chess_reinforcement/chess_training.ipynb#W1sZmlsZQ%3D%3D?line=13'>14</a>\u001b[0m     ended\n\u001b[0;32m     <a href='vscode-notebook-cell:/c%3A/Users/sales/Documents/Github/chess_reinforcement/chess_training.ipynb#W1sZmlsZQ%3D%3D?line=14'>15</a>\u001b[0m )\n\u001b[0;32m     <a href='vscode-notebook-cell:/c%3A/Users/sales/Documents/Github/chess_reinforcement/chess_training.ipynb#W1sZmlsZQ%3D%3D?line=15'>16</a>\u001b[0m agent\u001b[39m.\u001b[39mlearn(current_action_space, env\u001b[39m.\u001b[39maction_space)\n\u001b[0;32m     <a href='vscode-notebook-cell:/c%3A/Users/sales/Documents/Github/chess_reinforcement/chess_training.ipynb#W1sZmlsZQ%3D%3D?line=16'>17</a>\u001b[0m observation \u001b[39m=\u001b[39m new_observation\n",
      "File \u001b[1;32mc:\\Users\\sales\\Documents\\Github\\chess_reinforcement\\network.py:95\u001b[0m, in \u001b[0;36mAgent.store_transition\u001b[1;34m(self, state, action, reward, state_, done)\u001b[0m\n\u001b[0;32m     93\u001b[0m \u001b[39mdef\u001b[39;00m \u001b[39mstore_transition\u001b[39m(\u001b[39mself\u001b[39m, state, action, reward, state_, done):\n\u001b[0;32m     94\u001b[0m     index \u001b[39m=\u001b[39m \u001b[39mself\u001b[39m\u001b[39m.\u001b[39mmem_cntr \u001b[39m%\u001b[39m \u001b[39mself\u001b[39m\u001b[39m.\u001b[39mmem_size\n\u001b[1;32m---> 95\u001b[0m     \u001b[39mself\u001b[39;49m\u001b[39m.\u001b[39;49mstate_memory[index] \u001b[39m=\u001b[39m state\n\u001b[0;32m     96\u001b[0m     \u001b[39mself\u001b[39m\u001b[39m.\u001b[39mnew_state_memory[index] \u001b[39m=\u001b[39m state_\n\u001b[0;32m     97\u001b[0m     \u001b[39mself\u001b[39m\u001b[39m.\u001b[39mreward_memory[index] \u001b[39m=\u001b[39m reward\n",
      "\u001b[1;31mValueError\u001b[0m: could not broadcast input array from shape (6,8,8) into shape (390,390)"
     ]
    }
   ],
   "source": [
    "for game in range(number_of_games):\n",
    "    score = 0\n",
    "    observation, info = env.reset()\n",
    "    while not env.game.is_game_over():\n",
    "        current_action_space = env.action_space\n",
    "        action = agent.choose_action(observation, current_action_space)\n",
    "        new_observation, reward, ended, _, info = env.step(action)\n",
    "        score += reward\n",
    "        agent.store_transition(\n",
    "            observation,\n",
    "            current_action_space.index(action),\n",
    "            reward,\n",
    "            new_observation,\n",
    "            ended\n",
    "        )\n",
    "        agent.learn(current_action_space, env.action_space)\n",
    "        observation = new_observation\n",
    "\n",
    "    games[env.pgn()] = {\n",
    "        \"scores\" : scores,\n",
    "        \"eps_hist\" : agent.epsilon\n",
    "    }\n",
    "\n",
    "    print(f\"Episode: {game}. Score: {score:.2f}. Epsilon: {agent.epsilon:.2f}.\")"
   ]
  }
 ],
 "metadata": {
  "kernelspec": {
   "display_name": "env",
   "language": "python",
   "name": "python3"
  },
  "language_info": {
   "codemirror_mode": {
    "name": "ipython",
    "version": 3
   },
   "file_extension": ".py",
   "mimetype": "text/x-python",
   "name": "python",
   "nbconvert_exporter": "python",
   "pygments_lexer": "ipython3",
   "version": "3.11.5"
  }
 },
 "nbformat": 4,
 "nbformat_minor": 2
}
