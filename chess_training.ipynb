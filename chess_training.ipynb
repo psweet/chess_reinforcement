{
 "cells": [
  {
   "cell_type": "code",
   "execution_count": 2,
   "metadata": {},
   "outputs": [
    {
     "ename": "RuntimeError",
     "evalue": "Given groups=1, weight of size [200, 200, 3, 3], expected input[1, 6, 8, 8] to have 200 channels, but got 6 channels instead",
     "output_type": "error",
     "traceback": [
      "\u001b[0;31m---------------------------------------------------------------------------\u001b[0m",
      "\u001b[0;31mRuntimeError\u001b[0m                              Traceback (most recent call last)",
      "\u001b[1;32m/home/psweet/Documents/GitHub/chess_reinforcement/chess_training.ipynb Cell 1\u001b[0m line \u001b[0;36m2\n\u001b[1;32m     <a href='vscode-notebook-cell:/home/psweet/Documents/GitHub/chess_reinforcement/chess_training.ipynb#W3sZmlsZQ%3D%3D?line=19'>20</a>\u001b[0m number_of_games \u001b[39m=\u001b[39m \u001b[39m20\u001b[39m\n\u001b[1;32m     <a href='vscode-notebook-cell:/home/psweet/Documents/GitHub/chess_reinforcement/chess_training.ipynb#W3sZmlsZQ%3D%3D?line=21'>22</a>\u001b[0m agent\u001b[39m.\u001b[39mQ_eval\u001b[39m.\u001b[39mdevice\n\u001b[0;32m---> <a href='vscode-notebook-cell:/home/psweet/Documents/GitHub/chess_reinforcement/chess_training.ipynb#W3sZmlsZQ%3D%3D?line=22'>23</a>\u001b[0m agent\u001b[39m.\u001b[39;49mQ_eval\u001b[39m.\u001b[39;49mmodule_list[\u001b[39m0\u001b[39;49m]\u001b[39m.\u001b[39;49mforward(torch\u001b[39m.\u001b[39;49mtensor(env\u001b[39m.\u001b[39;49mread_board(), dtype\u001b[39m=\u001b[39;49mtorch\u001b[39m.\u001b[39;49mfloat))\n",
      "File \u001b[0;32m~/Documents/GitHub/chess_reinforcement/network.py:51\u001b[0m, in \u001b[0;36mNetwork.forward\u001b[0;34m(self, state)\u001b[0m\n\u001b[1;32m     49\u001b[0m \u001b[39mdef\u001b[39;00m \u001b[39mforward\u001b[39m(\u001b[39mself\u001b[39m, state):\n\u001b[1;32m     50\u001b[0m     state_input \u001b[39m=\u001b[39m torch\u001b[39m.\u001b[39mclone(state)\n\u001b[0;32m---> 51\u001b[0m     x \u001b[39m=\u001b[39m \u001b[39mself\u001b[39;49m\u001b[39m.\u001b[39;49mconv1(state)\n\u001b[1;32m     52\u001b[0m     x \u001b[39m=\u001b[39m \u001b[39mself\u001b[39m\u001b[39m.\u001b[39mbn1(x)\n\u001b[1;32m     53\u001b[0m     x \u001b[39m=\u001b[39m \u001b[39mself\u001b[39m\u001b[39m.\u001b[39mactivation1(x)\n",
      "File \u001b[0;32m~/Documents/GitHub/chess_reinforcement/env/lib/python3.10/site-packages/torch/nn/modules/module.py:1518\u001b[0m, in \u001b[0;36mModule._wrapped_call_impl\u001b[0;34m(self, *args, **kwargs)\u001b[0m\n\u001b[1;32m   1516\u001b[0m     \u001b[39mreturn\u001b[39;00m \u001b[39mself\u001b[39m\u001b[39m.\u001b[39m_compiled_call_impl(\u001b[39m*\u001b[39margs, \u001b[39m*\u001b[39m\u001b[39m*\u001b[39mkwargs)  \u001b[39m# type: ignore[misc]\u001b[39;00m\n\u001b[1;32m   1517\u001b[0m \u001b[39melse\u001b[39;00m:\n\u001b[0;32m-> 1518\u001b[0m     \u001b[39mreturn\u001b[39;00m \u001b[39mself\u001b[39;49m\u001b[39m.\u001b[39;49m_call_impl(\u001b[39m*\u001b[39;49margs, \u001b[39m*\u001b[39;49m\u001b[39m*\u001b[39;49mkwargs)\n",
      "File \u001b[0;32m~/Documents/GitHub/chess_reinforcement/env/lib/python3.10/site-packages/torch/nn/modules/module.py:1527\u001b[0m, in \u001b[0;36mModule._call_impl\u001b[0;34m(self, *args, **kwargs)\u001b[0m\n\u001b[1;32m   1522\u001b[0m \u001b[39m# If we don't have any hooks, we want to skip the rest of the logic in\u001b[39;00m\n\u001b[1;32m   1523\u001b[0m \u001b[39m# this function, and just call forward.\u001b[39;00m\n\u001b[1;32m   1524\u001b[0m \u001b[39mif\u001b[39;00m \u001b[39mnot\u001b[39;00m (\u001b[39mself\u001b[39m\u001b[39m.\u001b[39m_backward_hooks \u001b[39mor\u001b[39;00m \u001b[39mself\u001b[39m\u001b[39m.\u001b[39m_backward_pre_hooks \u001b[39mor\u001b[39;00m \u001b[39mself\u001b[39m\u001b[39m.\u001b[39m_forward_hooks \u001b[39mor\u001b[39;00m \u001b[39mself\u001b[39m\u001b[39m.\u001b[39m_forward_pre_hooks\n\u001b[1;32m   1525\u001b[0m         \u001b[39mor\u001b[39;00m _global_backward_pre_hooks \u001b[39mor\u001b[39;00m _global_backward_hooks\n\u001b[1;32m   1526\u001b[0m         \u001b[39mor\u001b[39;00m _global_forward_hooks \u001b[39mor\u001b[39;00m _global_forward_pre_hooks):\n\u001b[0;32m-> 1527\u001b[0m     \u001b[39mreturn\u001b[39;00m forward_call(\u001b[39m*\u001b[39;49margs, \u001b[39m*\u001b[39;49m\u001b[39m*\u001b[39;49mkwargs)\n\u001b[1;32m   1529\u001b[0m \u001b[39mtry\u001b[39;00m:\n\u001b[1;32m   1530\u001b[0m     result \u001b[39m=\u001b[39m \u001b[39mNone\u001b[39;00m\n",
      "File \u001b[0;32m~/Documents/GitHub/chess_reinforcement/env/lib/python3.10/site-packages/torch/nn/modules/conv.py:460\u001b[0m, in \u001b[0;36mConv2d.forward\u001b[0;34m(self, input)\u001b[0m\n\u001b[1;32m    459\u001b[0m \u001b[39mdef\u001b[39;00m \u001b[39mforward\u001b[39m(\u001b[39mself\u001b[39m, \u001b[39minput\u001b[39m: Tensor) \u001b[39m-\u001b[39m\u001b[39m>\u001b[39m Tensor:\n\u001b[0;32m--> 460\u001b[0m     \u001b[39mreturn\u001b[39;00m \u001b[39mself\u001b[39;49m\u001b[39m.\u001b[39;49m_conv_forward(\u001b[39minput\u001b[39;49m, \u001b[39mself\u001b[39;49m\u001b[39m.\u001b[39;49mweight, \u001b[39mself\u001b[39;49m\u001b[39m.\u001b[39;49mbias)\n",
      "File \u001b[0;32m~/Documents/GitHub/chess_reinforcement/env/lib/python3.10/site-packages/torch/nn/modules/conv.py:456\u001b[0m, in \u001b[0;36mConv2d._conv_forward\u001b[0;34m(self, input, weight, bias)\u001b[0m\n\u001b[1;32m    452\u001b[0m \u001b[39mif\u001b[39;00m \u001b[39mself\u001b[39m\u001b[39m.\u001b[39mpadding_mode \u001b[39m!=\u001b[39m \u001b[39m'\u001b[39m\u001b[39mzeros\u001b[39m\u001b[39m'\u001b[39m:\n\u001b[1;32m    453\u001b[0m     \u001b[39mreturn\u001b[39;00m F\u001b[39m.\u001b[39mconv2d(F\u001b[39m.\u001b[39mpad(\u001b[39minput\u001b[39m, \u001b[39mself\u001b[39m\u001b[39m.\u001b[39m_reversed_padding_repeated_twice, mode\u001b[39m=\u001b[39m\u001b[39mself\u001b[39m\u001b[39m.\u001b[39mpadding_mode),\n\u001b[1;32m    454\u001b[0m                     weight, bias, \u001b[39mself\u001b[39m\u001b[39m.\u001b[39mstride,\n\u001b[1;32m    455\u001b[0m                     _pair(\u001b[39m0\u001b[39m), \u001b[39mself\u001b[39m\u001b[39m.\u001b[39mdilation, \u001b[39mself\u001b[39m\u001b[39m.\u001b[39mgroups)\n\u001b[0;32m--> 456\u001b[0m \u001b[39mreturn\u001b[39;00m F\u001b[39m.\u001b[39;49mconv2d(\u001b[39minput\u001b[39;49m, weight, bias, \u001b[39mself\u001b[39;49m\u001b[39m.\u001b[39;49mstride,\n\u001b[1;32m    457\u001b[0m                 \u001b[39mself\u001b[39;49m\u001b[39m.\u001b[39;49mpadding, \u001b[39mself\u001b[39;49m\u001b[39m.\u001b[39;49mdilation, \u001b[39mself\u001b[39;49m\u001b[39m.\u001b[39;49mgroups)\n",
      "\u001b[0;31mRuntimeError\u001b[0m: Given groups=1, weight of size [200, 200, 3, 3], expected input[1, 6, 8, 8] to have 200 channels, but got 6 channels instead"
     ]
    }
   ],
   "source": [
    "from chess_env import ChessEnv\n",
    "from network import Agent\n",
    "\n",
    "import torch\n",
    "\n",
    "# https://www.kaggle.com/code/arjanso/reinforcement-learning-chess-3-q-networks\n",
    "\n",
    "env = ChessEnv()\n",
    "agent = Agent(\n",
    "    gamma=0.99,\n",
    "    epsilon=1.0,\n",
    "    batch_size=128,\n",
    "    max_me_size=1_000,\n",
    "    eps_end=0.01,\n",
    "    input_dims=[390, 390],\n",
    "    lr=0.003\n",
    ")\n",
    "scores = []\n",
    "games = {}\n",
    "number_of_games = 20\n",
    "\n",
    "agent.Q_eval.device\n",
    "agent.Q_eval.module_list[0].forward(torch.tensor(env.read_board(), dtype=torch.float))"
   ]
  },
  {
   "cell_type": "code",
   "execution_count": null,
   "metadata": {},
   "outputs": [
    {
     "ename": "ValueError",
     "evalue": "could not broadcast input array from shape (6,8,8) into shape (390,390)",
     "output_type": "error",
     "traceback": [
      "\u001b[0;31m---------------------------------------------------------------------------\u001b[0m",
      "\u001b[0;31mValueError\u001b[0m                                Traceback (most recent call last)",
      "\u001b[1;32m/home/psweet/Documents/GitHub/chess_reinforcement/chess_training.ipynb Cell 2\u001b[0m line \u001b[0;36m9\n\u001b[1;32m      <a href='vscode-notebook-cell:/home/psweet/Documents/GitHub/chess_reinforcement/chess_training.ipynb#W4sZmlsZQ%3D%3D?line=6'>7</a>\u001b[0m new_observation, reward, ended, _, info \u001b[39m=\u001b[39m env\u001b[39m.\u001b[39mstep(action)\n\u001b[1;32m      <a href='vscode-notebook-cell:/home/psweet/Documents/GitHub/chess_reinforcement/chess_training.ipynb#W4sZmlsZQ%3D%3D?line=7'>8</a>\u001b[0m score \u001b[39m+\u001b[39m\u001b[39m=\u001b[39m reward\n\u001b[0;32m----> <a href='vscode-notebook-cell:/home/psweet/Documents/GitHub/chess_reinforcement/chess_training.ipynb#W4sZmlsZQ%3D%3D?line=8'>9</a>\u001b[0m agent\u001b[39m.\u001b[39;49mstore_transition(\n\u001b[1;32m     <a href='vscode-notebook-cell:/home/psweet/Documents/GitHub/chess_reinforcement/chess_training.ipynb#W4sZmlsZQ%3D%3D?line=9'>10</a>\u001b[0m     observation,\n\u001b[1;32m     <a href='vscode-notebook-cell:/home/psweet/Documents/GitHub/chess_reinforcement/chess_training.ipynb#W4sZmlsZQ%3D%3D?line=10'>11</a>\u001b[0m     current_action_space\u001b[39m.\u001b[39;49mindex(action),\n\u001b[1;32m     <a href='vscode-notebook-cell:/home/psweet/Documents/GitHub/chess_reinforcement/chess_training.ipynb#W4sZmlsZQ%3D%3D?line=11'>12</a>\u001b[0m     reward,\n\u001b[1;32m     <a href='vscode-notebook-cell:/home/psweet/Documents/GitHub/chess_reinforcement/chess_training.ipynb#W4sZmlsZQ%3D%3D?line=12'>13</a>\u001b[0m     new_observation,\n\u001b[1;32m     <a href='vscode-notebook-cell:/home/psweet/Documents/GitHub/chess_reinforcement/chess_training.ipynb#W4sZmlsZQ%3D%3D?line=13'>14</a>\u001b[0m     ended\n\u001b[1;32m     <a href='vscode-notebook-cell:/home/psweet/Documents/GitHub/chess_reinforcement/chess_training.ipynb#W4sZmlsZQ%3D%3D?line=14'>15</a>\u001b[0m )\n\u001b[1;32m     <a href='vscode-notebook-cell:/home/psweet/Documents/GitHub/chess_reinforcement/chess_training.ipynb#W4sZmlsZQ%3D%3D?line=15'>16</a>\u001b[0m agent\u001b[39m.\u001b[39mlearn(current_action_space, env\u001b[39m.\u001b[39maction_space)\n\u001b[1;32m     <a href='vscode-notebook-cell:/home/psweet/Documents/GitHub/chess_reinforcement/chess_training.ipynb#W4sZmlsZQ%3D%3D?line=16'>17</a>\u001b[0m observation \u001b[39m=\u001b[39m new_observation\n",
      "File \u001b[0;32m~/Documents/GitHub/chess_reinforcement/network.py:91\u001b[0m, in \u001b[0;36mAgent.store_transition\u001b[0;34m(self, state, action, reward, state_, done)\u001b[0m\n\u001b[1;32m     89\u001b[0m \u001b[39mdef\u001b[39;00m \u001b[39mstore_transition\u001b[39m(\u001b[39mself\u001b[39m, state, action, reward, state_, done):\n\u001b[1;32m     90\u001b[0m     index \u001b[39m=\u001b[39m \u001b[39mself\u001b[39m\u001b[39m.\u001b[39mmem_cntr \u001b[39m%\u001b[39m \u001b[39mself\u001b[39m\u001b[39m.\u001b[39mmem_size\n\u001b[0;32m---> 91\u001b[0m     \u001b[39mself\u001b[39;49m\u001b[39m.\u001b[39;49mstate_memory[index] \u001b[39m=\u001b[39m state\n\u001b[1;32m     92\u001b[0m     \u001b[39mself\u001b[39m\u001b[39m.\u001b[39mnew_state_memory[index] \u001b[39m=\u001b[39m state_\n\u001b[1;32m     93\u001b[0m     \u001b[39mself\u001b[39m\u001b[39m.\u001b[39mreward_memory[index] \u001b[39m=\u001b[39m reward\n",
      "\u001b[0;31mValueError\u001b[0m: could not broadcast input array from shape (6,8,8) into shape (390,390)"
     ]
    }
   ],
   "source": [
    "for game in range(number_of_games):\n",
    "    score = 0\n",
    "    observation, info = env.reset()\n",
    "    while not env.game.is_game_over():\n",
    "        current_action_space = env.action_space\n",
    "        action = agent.choose_action(observation, current_action_space)\n",
    "        new_observation, reward, ended, _, info = env.step(action)\n",
    "        score += reward\n",
    "        agent.store_transition(\n",
    "            observation,\n",
    "            current_action_space.index(action),\n",
    "            reward,\n",
    "            new_observation,\n",
    "            ended\n",
    "        )\n",
    "        agent.learn(current_action_space, env.action_space)\n",
    "        observation = new_observation\n",
    "\n",
    "    games[env.pgn()] = {\n",
    "        \"scores\" : scores,\n",
    "        \"eps_hist\" : agent.epsilon\n",
    "    }\n",
    "\n",
    "    print(f\"Episode: {game}. Score: {score:.2f}. Epsilon: {agent.epsilon:.2f}.\")"
   ]
  }
 ],
 "metadata": {
  "kernelspec": {
   "display_name": "env",
   "language": "python",
   "name": "python3"
  },
  "language_info": {
   "codemirror_mode": {
    "name": "ipython",
    "version": 3
   },
   "file_extension": ".py",
   "mimetype": "text/x-python",
   "name": "python",
   "nbconvert_exporter": "python",
   "pygments_lexer": "ipython3",
   "version": "3.11.6"
  }
 },
 "nbformat": 4,
 "nbformat_minor": 2
}
