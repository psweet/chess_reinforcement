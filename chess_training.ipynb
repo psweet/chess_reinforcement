{
 "cells": [
  {
   "cell_type": "code",
   "execution_count": 1,
   "metadata": {},
   "outputs": [
    {
     "data": {
      "text/plain": [
       "device(type='cpu')"
      ]
     },
     "execution_count": 1,
     "metadata": {},
     "output_type": "execute_result"
    }
   ],
   "source": [
    "from chess_env import ChessEnv\n",
    "from network import Agent\n",
    "\n",
    "# https://www.kaggle.com/code/arjanso/reinforcement-learning-chess-3-q-networks\n",
    "\n",
    "env = ChessEnv()\n",
    "agent = Agent(\n",
    "    gamma=0.99,\n",
    "    epsilon=1.0,\n",
    "    batch_size=128,\n",
    "    max_me_size=1_000,\n",
    "    eps_end=0.01,\n",
    "    input_dims=[390, 390],\n",
    "    lr=0.003\n",
    ")\n",
    "scores = []\n",
    "games = {}\n",
    "number_of_games = 20\n",
    "\n",
    "agent.Q_eval.device"
   ]
  },
  {
   "cell_type": "code",
   "execution_count": 2,
   "metadata": {},
   "outputs": [
    {
     "ename": "RuntimeError",
     "evalue": "Given groups=1, weight of size [1, 390, 1, 1], expected input[1, 128, 390, 390] to have 390 channels, but got 128 channels instead",
     "output_type": "error",
     "traceback": [
      "\u001b[0;31m---------------------------------------------------------------------------\u001b[0m",
      "\u001b[0;31mRuntimeError\u001b[0m                              Traceback (most recent call last)",
      "\u001b[1;32m/Users/cpuerta/Documents/Github/chess_reinforcement/chess_training.ipynb Cell 2\u001b[0m line \u001b[0;36m1\n\u001b[1;32m      <a href='vscode-notebook-cell:/Users/cpuerta/Documents/Github/chess_reinforcement/chess_training.ipynb#W1sZmlsZQ%3D%3D?line=7'>8</a>\u001b[0m     score \u001b[39m+\u001b[39m\u001b[39m=\u001b[39m reward\n\u001b[1;32m      <a href='vscode-notebook-cell:/Users/cpuerta/Documents/Github/chess_reinforcement/chess_training.ipynb#W1sZmlsZQ%3D%3D?line=8'>9</a>\u001b[0m     agent\u001b[39m.\u001b[39mstore_transition(\n\u001b[1;32m     <a href='vscode-notebook-cell:/Users/cpuerta/Documents/Github/chess_reinforcement/chess_training.ipynb#W1sZmlsZQ%3D%3D?line=9'>10</a>\u001b[0m         observation,\n\u001b[1;32m     <a href='vscode-notebook-cell:/Users/cpuerta/Documents/Github/chess_reinforcement/chess_training.ipynb#W1sZmlsZQ%3D%3D?line=10'>11</a>\u001b[0m         current_action_space\u001b[39m.\u001b[39mindex(action),\n\u001b[0;32m   (...)\u001b[0m\n\u001b[1;32m     <a href='vscode-notebook-cell:/Users/cpuerta/Documents/Github/chess_reinforcement/chess_training.ipynb#W1sZmlsZQ%3D%3D?line=13'>14</a>\u001b[0m         ended\n\u001b[1;32m     <a href='vscode-notebook-cell:/Users/cpuerta/Documents/Github/chess_reinforcement/chess_training.ipynb#W1sZmlsZQ%3D%3D?line=14'>15</a>\u001b[0m     )\n\u001b[0;32m---> <a href='vscode-notebook-cell:/Users/cpuerta/Documents/Github/chess_reinforcement/chess_training.ipynb#W1sZmlsZQ%3D%3D?line=15'>16</a>\u001b[0m     agent\u001b[39m.\u001b[39;49mlearn(current_action_space, env\u001b[39m.\u001b[39;49maction_space)\n\u001b[1;32m     <a href='vscode-notebook-cell:/Users/cpuerta/Documents/Github/chess_reinforcement/chess_training.ipynb#W1sZmlsZQ%3D%3D?line=16'>17</a>\u001b[0m     observation \u001b[39m=\u001b[39m new_observation\n\u001b[1;32m     <a href='vscode-notebook-cell:/Users/cpuerta/Documents/Github/chess_reinforcement/chess_training.ipynb#W1sZmlsZQ%3D%3D?line=18'>19</a>\u001b[0m games[env\u001b[39m.\u001b[39mpgn()] \u001b[39m=\u001b[39m {\n\u001b[1;32m     <a href='vscode-notebook-cell:/Users/cpuerta/Documents/Github/chess_reinforcement/chess_training.ipynb#W1sZmlsZQ%3D%3D?line=19'>20</a>\u001b[0m     \u001b[39m\"\u001b[39m\u001b[39mscores\u001b[39m\u001b[39m\"\u001b[39m : scores,\n\u001b[1;32m     <a href='vscode-notebook-cell:/Users/cpuerta/Documents/Github/chess_reinforcement/chess_training.ipynb#W1sZmlsZQ%3D%3D?line=20'>21</a>\u001b[0m     \u001b[39m\"\u001b[39m\u001b[39meps_hist\u001b[39m\u001b[39m\"\u001b[39m : agent\u001b[39m.\u001b[39mepsilon\n\u001b[1;32m     <a href='vscode-notebook-cell:/Users/cpuerta/Documents/Github/chess_reinforcement/chess_training.ipynb#W1sZmlsZQ%3D%3D?line=21'>22</a>\u001b[0m }\n",
      "File \u001b[0;32m~/Documents/Github/chess_reinforcement/network.py:98\u001b[0m, in \u001b[0;36mAgent.learn\u001b[0;34m(self, action_space, next_action_space)\u001b[0m\n\u001b[1;32m     95\u001b[0m \u001b[39m# terminal_batch = torch.tensor(self.terminal_memory[batch]).to(self.Q_eval.device)\u001b[39;00m\n\u001b[1;32m     97\u001b[0m action_batch \u001b[39m=\u001b[39m \u001b[39mself\u001b[39m\u001b[39m.\u001b[39maction_memory[batch]\n\u001b[0;32m---> 98\u001b[0m q_eval \u001b[39m=\u001b[39m \u001b[39mself\u001b[39;49m\u001b[39m.\u001b[39;49mQ_eval\u001b[39m.\u001b[39;49mforward(state_batch, action_space)\n\u001b[1;32m     99\u001b[0m \u001b[39mprint\u001b[39m(q_eval\u001b[39m.\u001b[39mshape, batch_index\u001b[39m.\u001b[39mshape, action_batch\u001b[39m.\u001b[39mshape)\n\u001b[1;32m    100\u001b[0m \u001b[39mprint\u001b[39m(action_batch[\u001b[39m0\u001b[39m], action_batch[\u001b[39m0\u001b[39m]\u001b[39m.\u001b[39mshape)\n",
      "File \u001b[0;32m~/Documents/Github/chess_reinforcement/network.py:24\u001b[0m, in \u001b[0;36mNetwork.forward\u001b[0;34m(self, state, available_actions)\u001b[0m\n\u001b[1;32m     21\u001b[0m n_actions \u001b[39m=\u001b[39m \u001b[39mlen\u001b[39m(available_actions)\n\u001b[1;32m     22\u001b[0m fc1 \u001b[39m=\u001b[39m nn\u001b[39m.\u001b[39mLinear(\u001b[39m1\u001b[39m, n_actions)\n\u001b[0;32m---> 24\u001b[0m x \u001b[39m=\u001b[39m F\u001b[39m.\u001b[39mrelu(\u001b[39mself\u001b[39;49m\u001b[39m.\u001b[39;49mconv1(state))\n\u001b[1;32m     25\u001b[0m x \u001b[39m=\u001b[39m F\u001b[39m.\u001b[39mrelu(\u001b[39mself\u001b[39m\u001b[39m.\u001b[39mconv2(x))\n\u001b[1;32m     26\u001b[0m x \u001b[39m=\u001b[39m fc1(x)\n",
      "File \u001b[0;32m/opt/homebrew/lib/python3.11/site-packages/torch/nn/modules/module.py:1518\u001b[0m, in \u001b[0;36mModule._wrapped_call_impl\u001b[0;34m(self, *args, **kwargs)\u001b[0m\n\u001b[1;32m   1516\u001b[0m     \u001b[39mreturn\u001b[39;00m \u001b[39mself\u001b[39m\u001b[39m.\u001b[39m_compiled_call_impl(\u001b[39m*\u001b[39margs, \u001b[39m*\u001b[39m\u001b[39m*\u001b[39mkwargs)  \u001b[39m# type: ignore[misc]\u001b[39;00m\n\u001b[1;32m   1517\u001b[0m \u001b[39melse\u001b[39;00m:\n\u001b[0;32m-> 1518\u001b[0m     \u001b[39mreturn\u001b[39;00m \u001b[39mself\u001b[39;49m\u001b[39m.\u001b[39;49m_call_impl(\u001b[39m*\u001b[39;49margs, \u001b[39m*\u001b[39;49m\u001b[39m*\u001b[39;49mkwargs)\n",
      "File \u001b[0;32m/opt/homebrew/lib/python3.11/site-packages/torch/nn/modules/module.py:1527\u001b[0m, in \u001b[0;36mModule._call_impl\u001b[0;34m(self, *args, **kwargs)\u001b[0m\n\u001b[1;32m   1522\u001b[0m \u001b[39m# If we don't have any hooks, we want to skip the rest of the logic in\u001b[39;00m\n\u001b[1;32m   1523\u001b[0m \u001b[39m# this function, and just call forward.\u001b[39;00m\n\u001b[1;32m   1524\u001b[0m \u001b[39mif\u001b[39;00m \u001b[39mnot\u001b[39;00m (\u001b[39mself\u001b[39m\u001b[39m.\u001b[39m_backward_hooks \u001b[39mor\u001b[39;00m \u001b[39mself\u001b[39m\u001b[39m.\u001b[39m_backward_pre_hooks \u001b[39mor\u001b[39;00m \u001b[39mself\u001b[39m\u001b[39m.\u001b[39m_forward_hooks \u001b[39mor\u001b[39;00m \u001b[39mself\u001b[39m\u001b[39m.\u001b[39m_forward_pre_hooks\n\u001b[1;32m   1525\u001b[0m         \u001b[39mor\u001b[39;00m _global_backward_pre_hooks \u001b[39mor\u001b[39;00m _global_backward_hooks\n\u001b[1;32m   1526\u001b[0m         \u001b[39mor\u001b[39;00m _global_forward_hooks \u001b[39mor\u001b[39;00m _global_forward_pre_hooks):\n\u001b[0;32m-> 1527\u001b[0m     \u001b[39mreturn\u001b[39;00m forward_call(\u001b[39m*\u001b[39;49margs, \u001b[39m*\u001b[39;49m\u001b[39m*\u001b[39;49mkwargs)\n\u001b[1;32m   1529\u001b[0m \u001b[39mtry\u001b[39;00m:\n\u001b[1;32m   1530\u001b[0m     result \u001b[39m=\u001b[39m \u001b[39mNone\u001b[39;00m\n",
      "File \u001b[0;32m/opt/homebrew/lib/python3.11/site-packages/torch/nn/modules/conv.py:460\u001b[0m, in \u001b[0;36mConv2d.forward\u001b[0;34m(self, input)\u001b[0m\n\u001b[1;32m    459\u001b[0m \u001b[39mdef\u001b[39;00m \u001b[39mforward\u001b[39m(\u001b[39mself\u001b[39m, \u001b[39minput\u001b[39m: Tensor) \u001b[39m-\u001b[39m\u001b[39m>\u001b[39m Tensor:\n\u001b[0;32m--> 460\u001b[0m     \u001b[39mreturn\u001b[39;00m \u001b[39mself\u001b[39;49m\u001b[39m.\u001b[39;49m_conv_forward(\u001b[39minput\u001b[39;49m, \u001b[39mself\u001b[39;49m\u001b[39m.\u001b[39;49mweight, \u001b[39mself\u001b[39;49m\u001b[39m.\u001b[39;49mbias)\n",
      "File \u001b[0;32m/opt/homebrew/lib/python3.11/site-packages/torch/nn/modules/conv.py:456\u001b[0m, in \u001b[0;36mConv2d._conv_forward\u001b[0;34m(self, input, weight, bias)\u001b[0m\n\u001b[1;32m    452\u001b[0m \u001b[39mif\u001b[39;00m \u001b[39mself\u001b[39m\u001b[39m.\u001b[39mpadding_mode \u001b[39m!=\u001b[39m \u001b[39m'\u001b[39m\u001b[39mzeros\u001b[39m\u001b[39m'\u001b[39m:\n\u001b[1;32m    453\u001b[0m     \u001b[39mreturn\u001b[39;00m F\u001b[39m.\u001b[39mconv2d(F\u001b[39m.\u001b[39mpad(\u001b[39minput\u001b[39m, \u001b[39mself\u001b[39m\u001b[39m.\u001b[39m_reversed_padding_repeated_twice, mode\u001b[39m=\u001b[39m\u001b[39mself\u001b[39m\u001b[39m.\u001b[39mpadding_mode),\n\u001b[1;32m    454\u001b[0m                     weight, bias, \u001b[39mself\u001b[39m\u001b[39m.\u001b[39mstride,\n\u001b[1;32m    455\u001b[0m                     _pair(\u001b[39m0\u001b[39m), \u001b[39mself\u001b[39m\u001b[39m.\u001b[39mdilation, \u001b[39mself\u001b[39m\u001b[39m.\u001b[39mgroups)\n\u001b[0;32m--> 456\u001b[0m \u001b[39mreturn\u001b[39;00m F\u001b[39m.\u001b[39;49mconv2d(\u001b[39minput\u001b[39;49m, weight, bias, \u001b[39mself\u001b[39;49m\u001b[39m.\u001b[39;49mstride,\n\u001b[1;32m    457\u001b[0m                 \u001b[39mself\u001b[39;49m\u001b[39m.\u001b[39;49mpadding, \u001b[39mself\u001b[39;49m\u001b[39m.\u001b[39;49mdilation, \u001b[39mself\u001b[39;49m\u001b[39m.\u001b[39;49mgroups)\n",
      "\u001b[0;31mRuntimeError\u001b[0m: Given groups=1, weight of size [1, 390, 1, 1], expected input[1, 128, 390, 390] to have 390 channels, but got 128 channels instead"
     ]
    }
   ],
   "source": [
    "for game in range(number_of_games):\n",
    "    score = 0\n",
    "    observation, info = env.reset()\n",
    "    while not env.game.is_game_over():\n",
    "        current_action_space = env.action_space\n",
    "        action = agent.choose_action(observation, current_action_space)\n",
    "        new_observation, reward, ended, _, info = env.step(action)\n",
    "        score += reward\n",
    "        agent.store_transition(\n",
    "            observation,\n",
    "            current_action_space.index(action),\n",
    "            reward,\n",
    "            new_observation,\n",
    "            ended\n",
    "        )\n",
    "        agent.learn(current_action_space, env.action_space)\n",
    "        observation = new_observation\n",
    "\n",
    "    games[env.pgn()] = {\n",
    "        \"scores\" : scores,\n",
    "        \"eps_hist\" : agent.epsilon\n",
    "    }\n",
    "\n",
    "    print(f\"Episode: {game}. Score: {score:.2f}. Epsilon: {agent.epsilon:.2f}.\")"
   ]
  }
 ],
 "metadata": {
  "kernelspec": {
   "display_name": "env",
   "language": "python",
   "name": "python3"
  },
  "language_info": {
   "codemirror_mode": {
    "name": "ipython",
    "version": 3
   },
   "file_extension": ".py",
   "mimetype": "text/x-python",
   "name": "python",
   "nbconvert_exporter": "python",
   "pygments_lexer": "ipython3",
   "version": "3.11.6"
  }
 },
 "nbformat": 4,
 "nbformat_minor": 2
}
